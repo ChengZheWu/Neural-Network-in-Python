{
 "cells": [
  {
   "cell_type": "code",
   "execution_count": 1,
   "metadata": {},
   "outputs": [],
   "source": [
    "import numpy as np\n",
    "import pandas as pd\n",
    "import matplotlib.pyplot as plt"
   ]
  },
  {
   "cell_type": "code",
   "execution_count": 2,
   "metadata": {},
   "outputs": [],
   "source": [
    "def standardize(data):\n",
    "    mean = np.mean(data)\n",
    "    deviation = ((np.sum((data - mean)**2))/len(data))**(0.5)\n",
    "    data = (data - mean)/deviation\n",
    "    return data, mean, deviation"
   ]
  },
  {
   "cell_type": "code",
   "execution_count": 3,
   "metadata": {},
   "outputs": [],
   "source": [
    "def sigmoid(x):\n",
    "    return (1/(1 + np.exp(-x)))\n",
    "\n",
    "def diff_sigmoid(x):\n",
    "    fx = sigmoid(x)\n",
    "    return fx*(1 - fx)"
   ]
  },
  {
   "cell_type": "code",
   "execution_count": 4,
   "metadata": {},
   "outputs": [],
   "source": [
    "def mse(pred, label):\n",
    "    loss = (np.sum((label - pred)**2))/pred.shape[0]\n",
    "    return loss\n",
    "\n",
    "def diff_mse(pred, label):\n",
    "    return (-2)*(label - pred)"
   ]
  },
  {
   "cell_type": "code",
   "execution_count": 5,
   "metadata": {},
   "outputs": [],
   "source": [
    "def feedforward(inputs, weights, bias):\n",
    "    output = np.dot(weights, inputs) + bias\n",
    "    return sigmoid(output)\n",
    "\n",
    "def backpropogation(inputs, outputs):\n",
    "    return np.dot(diff_sigmoid(outputs), inputs.T), diff_sigmoid(outputs)\n",
    "\n",
    "def update(learn_rate, weight, L_W, bias, L_B):\n",
    "    return weight-learn_rate*L_W , bias-learn_rate*L_B"
   ]
  },
  {
   "cell_type": "code",
   "execution_count": 6,
   "metadata": {},
   "outputs": [
    {
     "data": {
      "text/html": [
       "<div>\n",
       "<style scoped>\n",
       "    .dataframe tbody tr th:only-of-type {\n",
       "        vertical-align: middle;\n",
       "    }\n",
       "\n",
       "    .dataframe tbody tr th {\n",
       "        vertical-align: top;\n",
       "    }\n",
       "\n",
       "    .dataframe thead th {\n",
       "        text-align: right;\n",
       "    }\n",
       "</style>\n",
       "<table border=\"1\" class=\"dataframe\">\n",
       "  <thead>\n",
       "    <tr style=\"text-align: right;\">\n",
       "      <th></th>\n",
       "      <th>height</th>\n",
       "      <th>weight</th>\n",
       "      <th>gender</th>\n",
       "    </tr>\n",
       "  </thead>\n",
       "  <tbody>\n",
       "    <tr>\n",
       "      <td>0</td>\n",
       "      <td>153</td>\n",
       "      <td>48</td>\n",
       "      <td>0</td>\n",
       "    </tr>\n",
       "    <tr>\n",
       "      <td>1</td>\n",
       "      <td>170</td>\n",
       "      <td>70</td>\n",
       "      <td>1</td>\n",
       "    </tr>\n",
       "    <tr>\n",
       "      <td>2</td>\n",
       "      <td>182</td>\n",
       "      <td>67</td>\n",
       "      <td>1</td>\n",
       "    </tr>\n",
       "    <tr>\n",
       "      <td>3</td>\n",
       "      <td>160</td>\n",
       "      <td>50</td>\n",
       "      <td>0</td>\n",
       "    </tr>\n",
       "  </tbody>\n",
       "</table>\n",
       "</div>"
      ],
      "text/plain": [
       "   height  weight  gender\n",
       "0     153      48       0\n",
       "1     170      70       1\n",
       "2     182      67       1\n",
       "3     160      50       0"
      ]
     },
     "execution_count": 6,
     "metadata": {},
     "output_type": "execute_result"
    }
   ],
   "source": [
    "data = {'height':[153, 170, 182, 160], \n",
    "        'weight':[48, 70, 67, 50],\n",
    "        'gender':[0, 1, 1, 0]}\n",
    "# Man = 1, Woman = 0\n",
    "data_df = pd.DataFrame(data)\n",
    "data_df"
   ]
  },
  {
   "cell_type": "code",
   "execution_count": 7,
   "metadata": {},
   "outputs": [
    {
     "name": "stdout",
     "output_type": "stream",
     "text": [
      "[[153  48   0]\n",
      " [170  70   1]\n",
      " [182  67   1]\n",
      " [160  50   0]]\n",
      "ground_truth: [0 1 1 0]\n",
      "(4,)\n",
      "[[153.  48.]\n",
      " [170.  70.]\n",
      " [182.  67.]\n",
      " [160.  50.]]\n",
      "[[-1.21366974 -1.0932596 ]\n",
      " [ 0.34349144  1.14410888]\n",
      " [ 1.44266403  0.83901318]\n",
      " [-0.57248573 -0.88986246]]\n",
      "(4, 2)\n"
     ]
    }
   ],
   "source": [
    "data_arr = np.array(data_df)\n",
    "print(data_arr)\n",
    "\n",
    "ground_truth = data_arr[:,2]\n",
    "print('ground_truth:',ground_truth)\n",
    "print(ground_truth.shape)\n",
    "\n",
    "train_data = data_arr[:,:2].astype('float')\n",
    "print(train_data)\n",
    "\n",
    "# standardize\n",
    "train_data[:,0], height_mean, height_deviation = standardize(train_data[:,0])\n",
    "train_data[:,1], weight_mean, weight_deviation = standardize(train_data[:,1])\n",
    "print(train_data)\n",
    "print(train_data.shape)"
   ]
  },
  {
   "cell_type": "code",
   "execution_count": 8,
   "metadata": {},
   "outputs": [
    {
     "name": "stdout",
     "output_type": "stream",
     "text": [
      "Loss: 0.3148326787330971\n",
      "Loss: 0.23643269567822014\n",
      "Loss: 0.1706756678950057\n",
      "Loss: 0.11602138240554401\n",
      "Loss: 0.07578433900341079\n",
      "Loss: 0.04950147317138092\n",
      "Loss: 0.033333446694469485\n",
      "Loss: 0.02343434166217438\n",
      "Loss: 0.017210099232959745\n",
      "Loss: 0.01314112518145521\n"
     ]
    }
   ],
   "source": [
    "np.random.seed(7)\n",
    "\n",
    "input_layer = train_data[0].reshape(2,1)\n",
    "label = ground_truth[0].reshape(1,1)\n",
    "output_layer = np.random.randn(1,1)\n",
    "\n",
    "learn_rate = 0.01\n",
    "epochs = 1000\n",
    "neuron_num = 2\n",
    "\n",
    "weights_1 = np.random.randn(neuron_num, len(input_layer))\n",
    "bias_1 = np.random.randn(neuron_num, 1)\n",
    "weights_2 = np.random.randn(len(output_layer), neuron_num)\n",
    "bias_2 = np.random.randn(len(output_layer), 1)\n",
    "# print('origin:', weights_1.shape, bias_1.shape, weights_2.shape, bias_2.shape)\n",
    "\n",
    "history_loss = []\n",
    "\n",
    "##############################################################################\n",
    "for epoch in range(epochs):\n",
    "    for input_layer, label in zip(train_data, ground_truth):\n",
    "        input_layer = input_layer.reshape(2,1)\n",
    "        label = label.reshape(1,1)\n",
    "        \n",
    "        # feedforward\n",
    "        hidden_layer1 = feedforward(input_layer, weights_1, bias_1)\n",
    "        output_layer = feedforward(hidden_layer1, weights_2, bias_2)\n",
    "    #     print('hidden_layer1', hidden_layer1.shape)\n",
    "    #     print('output_layer', output_layer.shape)\n",
    "\n",
    "        loss = mse(output_layer, label)\n",
    "\n",
    "        diff_loss_pred = diff_mse(output_layer, label)\n",
    "    #     print('diff_loss_pred',diff_loss_pred.shape)\n",
    "\n",
    "        # backpropogation\n",
    "        diff_outputlayer_weight, diff_outputlayer_bias = backpropogation(hidden_layer1, output_layer)\n",
    "        diff_outputlayer_hiddenlayer, _ = backpropogation(weights_2.T, output_layer)\n",
    "\n",
    "        diff_hiddenlayer_weight, diff_hiddenlayer_bias = backpropogation(input_layer, hidden_layer1)\n",
    "\n",
    "    #     print('diff_hiddenlayer_weight', diff_hiddenlayer_weight.shape)\n",
    "    #     print('diff_hiddenlayer_bias', diff_hiddenlayer_bias.shape)\n",
    "    #     print('diff_outputlayer_hiddenlayer', diff_outputlayer_hiddenlayer.shape)\n",
    "    #     print('diff_outputlayer_weight', diff_outputlayer_weight.shape)\n",
    "    #     print('diff_outputlayer_bias', diff_outputlayer_hiddenlayer.shape)\n",
    "\n",
    "        # update\n",
    "        L_W_hiddenlayer = np.dot(np.dot(diff_loss_pred, diff_outputlayer_hiddenlayer), diff_hiddenlayer_weight)\n",
    "        L_B_hiddenlayer = np.dot(np.dot(diff_loss_pred, diff_outputlayer_hiddenlayer), diff_hiddenlayer_bias)\n",
    "\n",
    "\n",
    "        L_W_outputlayer = np.dot(diff_loss_pred, diff_outputlayer_weight)\n",
    "        L_B_outputlayer = np.dot(diff_loss_pred, diff_outputlayer_bias)\n",
    "\n",
    "        weights_1, bias_1 = update(learn_rate, weights_1, L_W_hiddenlayer, bias_1, L_B_hiddenlayer)\n",
    "\n",
    "        weights_2, bias_2 = update(learn_rate, weights_2, L_W_outputlayer, bias_2, L_B_outputlayer)\n",
    "\n",
    "    history_loss = np.append(history_loss, loss)\n",
    "    \n",
    "    if epoch%100 == 0:\n",
    "        print('Loss:',loss)"
   ]
  },
  {
   "cell_type": "code",
   "execution_count": 9,
   "metadata": {},
   "outputs": [
    {
     "data": {
      "image/png": "[encoded data removed]",
      "text/plain": [
       "<Figure size 432x288 with 1 Axes>"
      ]
     },
     "metadata": {
      "needs_background": "light"
     },
     "output_type": "display_data"
    }
   ],
   "source": [
    "plt.plot(history_loss)\n",
    "plt.ylabel('Loss')\n",
    "plt.xlabel('epoch')\n",
    "plt.show()"
   ]
  },
  {
   "cell_type": "code",
   "execution_count": 14,
   "metadata": {},
   "outputs": [
    {
     "name": "stdout",
     "output_type": "stream",
     "text": [
      "[[0.09079287]]\n"
     ]
    }
   ],
   "source": [
    "# predict\n",
    "\n",
    "def standardize_final(data):\n",
    "    data[0] = (data[0] - height_mean)/height_deviation\n",
    "    data[1] = (data[1] - weight_mean)/weight_deviation\n",
    "    return(data)\n",
    "\n",
    "someone = np.array([157.0, 46.0]).reshape(2,1)  #必須輸入小數\n",
    "someone = standardize_final(someone)\n",
    "\n",
    "hidden_layer1 = feedforward(someone, weights_1, bias_1)\n",
    "output_layer = feedforward(hidden_layer1, weights_2, bias_2)\n",
    "print(output_layer)"
   ]
  },
  {
   "cell_type": "code",
   "execution_count": null,
   "metadata": {},
   "outputs": [],
   "source": []
  }
 ],
 "metadata": {
  "kernelspec": {
   "display_name": "Python 3",
   "language": "python",
   "name": "python3"
  },
  "language_info": {
   "codemirror_mode": {
    "name": "ipython",
    "version": 3
   },
   "file_extension": ".py",
   "mimetype": "text/x-python",
   "name": "python",
   "nbconvert_exporter": "python",
   "pygments_lexer": "ipython3",
   "version": "3.7.4"
  }
 },
 "nbformat": 4,
 "nbformat_minor": 2
}
